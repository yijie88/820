{
 "cells": [
  {
   "cell_type": "code",
   "execution_count": 1,
   "id": "3f91a5ed",
   "metadata": {},
   "outputs": [],
   "source": [
    "import pandas as pd\n",
    "import numpy as np\n",
    "%matplotlib inline\n",
    "import matplotlib.pyplot as plt "
   ]
  },
  {
   "cell_type": "code",
   "execution_count": 2,
   "id": "e34c8e5c",
   "metadata": {},
   "outputs": [
    {
     "data": {
      "text/html": [
       "<div>\n",
       "<style scoped>\n",
       "    .dataframe tbody tr th:only-of-type {\n",
       "        vertical-align: middle;\n",
       "    }\n",
       "\n",
       "    .dataframe tbody tr th {\n",
       "        vertical-align: top;\n",
       "    }\n",
       "\n",
       "    .dataframe thead th {\n",
       "        text-align: right;\n",
       "    }\n",
       "</style>\n",
       "<table border=\"1\" class=\"dataframe\">\n",
       "  <thead>\n",
       "    <tr style=\"text-align: right;\">\n",
       "      <th></th>\n",
       "      <th>Date</th>\n",
       "      <th>Open</th>\n",
       "      <th>High</th>\n",
       "      <th>Low</th>\n",
       "      <th>Close</th>\n",
       "      <th>Adj Close</th>\n",
       "      <th>Volume</th>\n",
       "    </tr>\n",
       "  </thead>\n",
       "  <tbody>\n",
       "    <tr>\n",
       "      <th>0</th>\n",
       "      <td>2007-01-03</td>\n",
       "      <td>29.910000</td>\n",
       "      <td>30.250000</td>\n",
       "      <td>29.400000</td>\n",
       "      <td>29.860001</td>\n",
       "      <td>21.829727</td>\n",
       "      <td>76935100</td>\n",
       "    </tr>\n",
       "    <tr>\n",
       "      <th>1</th>\n",
       "      <td>2007-01-04</td>\n",
       "      <td>29.700001</td>\n",
       "      <td>29.969999</td>\n",
       "      <td>29.440001</td>\n",
       "      <td>29.809999</td>\n",
       "      <td>21.793169</td>\n",
       "      <td>45774500</td>\n",
       "    </tr>\n",
       "    <tr>\n",
       "      <th>2</th>\n",
       "      <td>2007-01-05</td>\n",
       "      <td>29.629999</td>\n",
       "      <td>29.750000</td>\n",
       "      <td>29.450001</td>\n",
       "      <td>29.639999</td>\n",
       "      <td>21.668890</td>\n",
       "      <td>44607200</td>\n",
       "    </tr>\n",
       "    <tr>\n",
       "      <th>3</th>\n",
       "      <td>2007-01-08</td>\n",
       "      <td>29.650000</td>\n",
       "      <td>30.100000</td>\n",
       "      <td>29.530001</td>\n",
       "      <td>29.930000</td>\n",
       "      <td>21.880898</td>\n",
       "      <td>50220200</td>\n",
       "    </tr>\n",
       "    <tr>\n",
       "      <th>4</th>\n",
       "      <td>2007-01-09</td>\n",
       "      <td>30.000000</td>\n",
       "      <td>30.180000</td>\n",
       "      <td>29.730000</td>\n",
       "      <td>29.959999</td>\n",
       "      <td>21.902834</td>\n",
       "      <td>44636600</td>\n",
       "    </tr>\n",
       "  </tbody>\n",
       "</table>\n",
       "</div>"
      ],
      "text/plain": [
       "         Date       Open       High        Low      Close  Adj Close    Volume\n",
       "0  2007-01-03  29.910000  30.250000  29.400000  29.860001  21.829727  76935100\n",
       "1  2007-01-04  29.700001  29.969999  29.440001  29.809999  21.793169  45774500\n",
       "2  2007-01-05  29.629999  29.750000  29.450001  29.639999  21.668890  44607200\n",
       "3  2007-01-08  29.650000  30.100000  29.530001  29.930000  21.880898  50220200\n",
       "4  2007-01-09  30.000000  30.180000  29.730000  29.959999  21.902834  44636600"
      ]
     },
     "execution_count": 2,
     "metadata": {},
     "output_type": "execute_result"
    }
   ],
   "source": [
    "df=pd.read_csv(\"MSFT.csv\")\n",
    "df.head()"
   ]
  },
  {
   "cell_type": "code",
   "execution_count": 3,
   "id": "488402ae",
   "metadata": {},
   "outputs": [
    {
     "data": {
      "text/plain": [
       "Date          object\n",
       "Open         float64\n",
       "High         float64\n",
       "Low          float64\n",
       "Close        float64\n",
       "Adj Close    float64\n",
       "Volume         int64\n",
       "dtype: object"
      ]
     },
     "execution_count": 3,
     "metadata": {},
     "output_type": "execute_result"
    }
   ],
   "source": [
    "#attribute type\n",
    "#Date         ordinal\n",
    "#Open         numeric\n",
    "#High         numeric\n",
    "#Low          numeric\n",
    "#Close        numeric\n",
    "#Adj Close    numeric\n",
    "#Volume \n",
    "df.dtypes"
   ]
  },
  {
   "cell_type": "code",
   "execution_count": 4,
   "id": "ddb9fd28",
   "metadata": {},
   "outputs": [
    {
     "name": "stdout",
     "output_type": "stream",
     "text": [
      "False\n"
     ]
    },
    {
     "data": {
      "text/plain": [
       "(3806, 7)"
      ]
     },
     "execution_count": 4,
     "metadata": {},
     "output_type": "execute_result"
    }
   ],
   "source": [
    "#checking null values\n",
    "print(df.isnull().values.any())\n",
    "df.shape"
   ]
  },
  {
   "cell_type": "code",
   "execution_count": 24,
   "id": "176e9030",
   "metadata": {},
   "outputs": [
    {
     "name": "stdout",
     "output_type": "stream",
     "text": [
      "max values for each attribute:\n",
      "Date         2022-02-11\n",
      "Open         344.619995\n",
      "High         349.670013\n",
      "Low          342.200012\n",
      "Close        343.109985\n",
      "Adj Close    343.109985\n",
      "Volume        319317900\n",
      "dtype: object\n",
      "min values for each attribute:\n",
      "Date         2007-01-03\n",
      "Open               15.2\n",
      "High              15.62\n",
      "Low               14.87\n",
      "Close             15.15\n",
      "Adj Close     11.511728\n",
      "Volume          7425600\n",
      "dtype: object\n",
      "mean values for each attribute:\n",
      "Open         7.595776e+01\n",
      "High         7.668237e+01\n",
      "Low          7.520438e+01\n",
      "Close        7.597786e+01\n",
      "Adj Close    7.122101e+01\n",
      "Volume       4.479994e+07\n",
      "dtype: float64\n",
      "std values for each attribute:\n",
      "Open         7.478380e+01\n",
      "High         7.548768e+01\n",
      "Low          7.402443e+01\n",
      "Close        7.479360e+01\n",
      "Adj Close    7.628312e+01\n",
      "Volume       2.733162e+07\n",
      "dtype: float64\n"
     ]
    }
   ],
   "source": [
    "# max , min , mean, sd\n",
    "maxvalues=df.max()\n",
    "print('max values for each attribute:')\n",
    "print(maxvalues)\n",
    "minvalues=df.min()\n",
    "print('min values for each attribute:')\n",
    "print(minvalues)\n",
    "meanvalues=df.mean()\n",
    "print('mean values for each attribute:')\n",
    "print(meanvalues)\n",
    "stdvalues=df.std()\n",
    "print('std values for each attribute:')\n",
    "print(stdvalues)"
   ]
  },
  {
   "cell_type": "code",
   "execution_count": 5,
   "id": "e0e51777",
   "metadata": {},
   "outputs": [
    {
     "data": {
      "image/png": "[encoded data removed]",
      "text/plain": [
       "<Figure size 432x288 with 1 Axes>"
      ]
     },
     "metadata": {
      "needs_background": "light"
     },
     "output_type": "display_data"
    }
   ],
   "source": [
    "# finding outliers with boxplot\n",
    "bxplot=df.boxplot(column=['Open','High','Low','Close','Adj Close'])\n",
    "#the data extracted contains 15 years of microsoft stock data, the box plot shows that since 2020, all the records are outliers\n",
    "# due to the massive rise in value, however if these data are considered outliers and excluded, the prediction for future\n",
    "#price of the stock will be heavily skewed, therefore all the data will be kept for the analysis."
   ]
  },
  {
   "cell_type": "code",
   "execution_count": 6,
   "id": "1baf3f71",
   "metadata": {},
   "outputs": [
    {
     "data": {
      "text/plain": [
       "array([[<AxesSubplot:title={'center':'Open'}>,\n",
       "        <AxesSubplot:title={'center':'High'}>],\n",
       "       [<AxesSubplot:title={'center':'Low'}>,\n",
       "        <AxesSubplot:title={'center':'Close'}>],\n",
       "       [<AxesSubplot:title={'center':'Adj Close'}>,\n",
       "        <AxesSubplot:title={'center':'Volume'}>]], dtype=object)"
      ]
     },
     "execution_count": 6,
     "metadata": {},
     "output_type": "execute_result"
    },
    {
     "data": {
      "image/png": "[encoded data removed]",
      "text/plain": [
       "<Figure size 432x288 with 6 Axes>"
      ]
     },
     "metadata": {
      "needs_background": "light"
     },
     "output_type": "display_data"
    }
   ],
   "source": [
    "#histogram\n",
    "df.hist()\n",
    "# the class attribute is the future price for the stock, therefore attributes (open, high, low,adj close) are directly correlated\n",
    "#to the class attribute as they are the actual price of stock for a specific day. with adj close being the most accurate value\n",
    "# as it factors in anything that may affect stock price after market closes"
   ]
  },
  {
   "cell_type": "code",
   "execution_count": null,
   "id": "1bfff90d",
   "metadata": {},
   "outputs": [],
   "source": [
    "#the attribute volume can be included, the volume attributes shows the number of shares being traded for a specific\n",
    "#day, the price of the share for that day depends on the numbers of sell/buy orders, if buy is higher than sell,\n",
    "#then the price will rise. volume also shows how volatile the stock is. therefore the volumn attribute will be included"
   ]
  },
  {
   "cell_type": "code",
   "execution_count": 16,
   "id": "07441b22",
   "metadata": {},
   "outputs": [],
   "source": [
    "from sklearn.linear_model import LinearRegression\n",
    "from sklearn.metrics import confusion_matrix, accuracy_score\n",
    "from sklearn.model_selection import train_test_split"
   ]
  },
  {
   "cell_type": "code",
   "execution_count": null,
   "id": "a9327b4b",
   "metadata": {},
   "outputs": [],
   "source": [
    "# for linear regression, the closing price will be used. in this case, adj close will be used since it is a better \n",
    "# representation of the actual value of the stock"
   ]
  },
  {
   "cell_type": "code",
   "execution_count": 9,
   "id": "2dc2483a",
   "metadata": {},
   "outputs": [
    {
     "data": {
      "text/html": [
       "<div>\n",
       "<style scoped>\n",
       "    .dataframe tbody tr th:only-of-type {\n",
       "        vertical-align: middle;\n",
       "    }\n",
       "\n",
       "    .dataframe tbody tr th {\n",
       "        vertical-align: top;\n",
       "    }\n",
       "\n",
       "    .dataframe thead th {\n",
       "        text-align: right;\n",
       "    }\n",
       "</style>\n",
       "<table border=\"1\" class=\"dataframe\">\n",
       "  <thead>\n",
       "    <tr style=\"text-align: right;\">\n",
       "      <th></th>\n",
       "      <th>Date</th>\n",
       "      <th>Open</th>\n",
       "      <th>High</th>\n",
       "      <th>Low</th>\n",
       "      <th>Close</th>\n",
       "      <th>Adj Close</th>\n",
       "      <th>Volume</th>\n",
       "      <th>MA</th>\n",
       "      <th>Year</th>\n",
       "    </tr>\n",
       "  </thead>\n",
       "  <tbody>\n",
       "    <tr>\n",
       "      <th>0</th>\n",
       "      <td>2007-01-03</td>\n",
       "      <td>29.910000</td>\n",
       "      <td>30.250000</td>\n",
       "      <td>29.400000</td>\n",
       "      <td>29.860001</td>\n",
       "      <td>21.829727</td>\n",
       "      <td>76935100</td>\n",
       "      <td>NaN</td>\n",
       "      <td>2007</td>\n",
       "    </tr>\n",
       "    <tr>\n",
       "      <th>1</th>\n",
       "      <td>2007-01-04</td>\n",
       "      <td>29.700001</td>\n",
       "      <td>29.969999</td>\n",
       "      <td>29.440001</td>\n",
       "      <td>29.809999</td>\n",
       "      <td>21.793169</td>\n",
       "      <td>45774500</td>\n",
       "      <td>NaN</td>\n",
       "      <td>2007</td>\n",
       "    </tr>\n",
       "    <tr>\n",
       "      <th>2</th>\n",
       "      <td>2007-01-05</td>\n",
       "      <td>29.629999</td>\n",
       "      <td>29.750000</td>\n",
       "      <td>29.450001</td>\n",
       "      <td>29.639999</td>\n",
       "      <td>21.668890</td>\n",
       "      <td>44607200</td>\n",
       "      <td>NaN</td>\n",
       "      <td>2007</td>\n",
       "    </tr>\n",
       "    <tr>\n",
       "      <th>3</th>\n",
       "      <td>2007-01-08</td>\n",
       "      <td>29.650000</td>\n",
       "      <td>30.100000</td>\n",
       "      <td>29.530001</td>\n",
       "      <td>29.930000</td>\n",
       "      <td>21.880898</td>\n",
       "      <td>50220200</td>\n",
       "      <td>NaN</td>\n",
       "      <td>2007</td>\n",
       "    </tr>\n",
       "    <tr>\n",
       "      <th>4</th>\n",
       "      <td>2007-01-09</td>\n",
       "      <td>30.000000</td>\n",
       "      <td>30.180000</td>\n",
       "      <td>29.730000</td>\n",
       "      <td>29.959999</td>\n",
       "      <td>21.902834</td>\n",
       "      <td>44636600</td>\n",
       "      <td>NaN</td>\n",
       "      <td>2007</td>\n",
       "    </tr>\n",
       "    <tr>\n",
       "      <th>...</th>\n",
       "      <td>...</td>\n",
       "      <td>...</td>\n",
       "      <td>...</td>\n",
       "      <td>...</td>\n",
       "      <td>...</td>\n",
       "      <td>...</td>\n",
       "      <td>...</td>\n",
       "      <td>...</td>\n",
       "      <td>...</td>\n",
       "    </tr>\n",
       "    <tr>\n",
       "      <th>3801</th>\n",
       "      <td>2022-02-07</td>\n",
       "      <td>306.170013</td>\n",
       "      <td>307.839996</td>\n",
       "      <td>299.899994</td>\n",
       "      <td>300.950012</td>\n",
       "      <td>300.950012</td>\n",
       "      <td>28533300</td>\n",
       "      <td>313.549668</td>\n",
       "      <td>2022</td>\n",
       "    </tr>\n",
       "    <tr>\n",
       "      <th>3802</th>\n",
       "      <td>2022-02-08</td>\n",
       "      <td>301.250000</td>\n",
       "      <td>305.559998</td>\n",
       "      <td>299.950012</td>\n",
       "      <td>304.559998</td>\n",
       "      <td>304.559998</td>\n",
       "      <td>32421200</td>\n",
       "      <td>312.286668</td>\n",
       "      <td>2022</td>\n",
       "    </tr>\n",
       "    <tr>\n",
       "      <th>3803</th>\n",
       "      <td>2022-02-09</td>\n",
       "      <td>309.869995</td>\n",
       "      <td>311.929993</td>\n",
       "      <td>307.390015</td>\n",
       "      <td>311.209991</td>\n",
       "      <td>311.209991</td>\n",
       "      <td>31284700</td>\n",
       "      <td>311.285334</td>\n",
       "      <td>2022</td>\n",
       "    </tr>\n",
       "    <tr>\n",
       "      <th>3804</th>\n",
       "      <td>2022-02-10</td>\n",
       "      <td>304.040009</td>\n",
       "      <td>309.119995</td>\n",
       "      <td>300.700012</td>\n",
       "      <td>302.380005</td>\n",
       "      <td>302.380005</td>\n",
       "      <td>45386200</td>\n",
       "      <td>309.966334</td>\n",
       "      <td>2022</td>\n",
       "    </tr>\n",
       "    <tr>\n",
       "      <th>3805</th>\n",
       "      <td>2022-02-11</td>\n",
       "      <td>303.190002</td>\n",
       "      <td>304.290009</td>\n",
       "      <td>294.220001</td>\n",
       "      <td>295.040009</td>\n",
       "      <td>295.040009</td>\n",
       "      <td>39143900</td>\n",
       "      <td>308.490334</td>\n",
       "      <td>2022</td>\n",
       "    </tr>\n",
       "  </tbody>\n",
       "</table>\n",
       "<p>3806 rows × 9 columns</p>\n",
       "</div>"
      ],
      "text/plain": [
       "            Date        Open        High         Low       Close   Adj Close  \\\n",
       "0     2007-01-03   29.910000   30.250000   29.400000   29.860001   21.829727   \n",
       "1     2007-01-04   29.700001   29.969999   29.440001   29.809999   21.793169   \n",
       "2     2007-01-05   29.629999   29.750000   29.450001   29.639999   21.668890   \n",
       "3     2007-01-08   29.650000   30.100000   29.530001   29.930000   21.880898   \n",
       "4     2007-01-09   30.000000   30.180000   29.730000   29.959999   21.902834   \n",
       "...          ...         ...         ...         ...         ...         ...   \n",
       "3801  2022-02-07  306.170013  307.839996  299.899994  300.950012  300.950012   \n",
       "3802  2022-02-08  301.250000  305.559998  299.950012  304.559998  304.559998   \n",
       "3803  2022-02-09  309.869995  311.929993  307.390015  311.209991  311.209991   \n",
       "3804  2022-02-10  304.040009  309.119995  300.700012  302.380005  302.380005   \n",
       "3805  2022-02-11  303.190002  304.290009  294.220001  295.040009  295.040009   \n",
       "\n",
       "        Volume          MA  Year  \n",
       "0     76935100         NaN  2007  \n",
       "1     45774500         NaN  2007  \n",
       "2     44607200         NaN  2007  \n",
       "3     50220200         NaN  2007  \n",
       "4     44636600         NaN  2007  \n",
       "...        ...         ...   ...  \n",
       "3801  28533300  313.549668  2022  \n",
       "3802  32421200  312.286668  2022  \n",
       "3803  31284700  311.285334  2022  \n",
       "3804  45386200  309.966334  2022  \n",
       "3805  39143900  308.490334  2022  \n",
       "\n",
       "[3806 rows x 9 columns]"
      ]
     },
     "execution_count": 9,
     "metadata": {},
     "output_type": "execute_result"
    }
   ],
   "source": [
    "#adding a 30 day moving average MA to the dataframe for regression\n",
    "df['MA']=df['Adj Close'].rolling(window=30, center=False).mean()\n",
    "df['Year']=df['Date'].str[:4]\n",
    "df"
   ]
  },
  {
   "cell_type": "code",
   "execution_count": 10,
   "id": "76f57020",
   "metadata": {},
   "outputs": [
    {
     "data": {
      "text/html": [
       "<div>\n",
       "<style scoped>\n",
       "    .dataframe tbody tr th:only-of-type {\n",
       "        vertical-align: middle;\n",
       "    }\n",
       "\n",
       "    .dataframe tbody tr th {\n",
       "        vertical-align: top;\n",
       "    }\n",
       "\n",
       "    .dataframe thead th {\n",
       "        text-align: right;\n",
       "    }\n",
       "</style>\n",
       "<table border=\"1\" class=\"dataframe\">\n",
       "  <thead>\n",
       "    <tr style=\"text-align: right;\">\n",
       "      <th></th>\n",
       "      <th>Date</th>\n",
       "      <th>Year</th>\n",
       "      <th>Adj Close</th>\n",
       "      <th>MA</th>\n",
       "    </tr>\n",
       "  </thead>\n",
       "  <tbody>\n",
       "    <tr>\n",
       "      <th>30</th>\n",
       "      <td>2007-02-15</td>\n",
       "      <td>2007</td>\n",
       "      <td>21.611973</td>\n",
       "      <td>22.062318</td>\n",
       "    </tr>\n",
       "    <tr>\n",
       "      <th>31</th>\n",
       "      <td>2007-02-16</td>\n",
       "      <td>2007</td>\n",
       "      <td>21.083773</td>\n",
       "      <td>22.038671</td>\n",
       "    </tr>\n",
       "    <tr>\n",
       "      <th>32</th>\n",
       "      <td>2007-02-20</td>\n",
       "      <td>2007</td>\n",
       "      <td>21.149803</td>\n",
       "      <td>22.021368</td>\n",
       "    </tr>\n",
       "    <tr>\n",
       "      <th>33</th>\n",
       "      <td>2007-02-21</td>\n",
       "      <td>2007</td>\n",
       "      <td>21.531277</td>\n",
       "      <td>22.009714</td>\n",
       "    </tr>\n",
       "    <tr>\n",
       "      <th>34</th>\n",
       "      <td>2007-02-22</td>\n",
       "      <td>2007</td>\n",
       "      <td>21.560625</td>\n",
       "      <td>21.998307</td>\n",
       "    </tr>\n",
       "    <tr>\n",
       "      <th>...</th>\n",
       "      <td>...</td>\n",
       "      <td>...</td>\n",
       "      <td>...</td>\n",
       "      <td>...</td>\n",
       "    </tr>\n",
       "    <tr>\n",
       "      <th>3801</th>\n",
       "      <td>2022-02-07</td>\n",
       "      <td>2022</td>\n",
       "      <td>300.950012</td>\n",
       "      <td>313.549668</td>\n",
       "    </tr>\n",
       "    <tr>\n",
       "      <th>3802</th>\n",
       "      <td>2022-02-08</td>\n",
       "      <td>2022</td>\n",
       "      <td>304.559998</td>\n",
       "      <td>312.286668</td>\n",
       "    </tr>\n",
       "    <tr>\n",
       "      <th>3803</th>\n",
       "      <td>2022-02-09</td>\n",
       "      <td>2022</td>\n",
       "      <td>311.209991</td>\n",
       "      <td>311.285334</td>\n",
       "    </tr>\n",
       "    <tr>\n",
       "      <th>3804</th>\n",
       "      <td>2022-02-10</td>\n",
       "      <td>2022</td>\n",
       "      <td>302.380005</td>\n",
       "      <td>309.966334</td>\n",
       "    </tr>\n",
       "    <tr>\n",
       "      <th>3805</th>\n",
       "      <td>2022-02-11</td>\n",
       "      <td>2022</td>\n",
       "      <td>295.040009</td>\n",
       "      <td>308.490334</td>\n",
       "    </tr>\n",
       "  </tbody>\n",
       "</table>\n",
       "<p>3776 rows × 4 columns</p>\n",
       "</div>"
      ],
      "text/plain": [
       "            Date  Year   Adj Close          MA\n",
       "30    2007-02-15  2007   21.611973   22.062318\n",
       "31    2007-02-16  2007   21.083773   22.038671\n",
       "32    2007-02-20  2007   21.149803   22.021368\n",
       "33    2007-02-21  2007   21.531277   22.009714\n",
       "34    2007-02-22  2007   21.560625   21.998307\n",
       "...          ...   ...         ...         ...\n",
       "3801  2022-02-07  2022  300.950012  313.549668\n",
       "3802  2022-02-08  2022  304.559998  312.286668\n",
       "3803  2022-02-09  2022  311.209991  311.285334\n",
       "3804  2022-02-10  2022  302.380005  309.966334\n",
       "3805  2022-02-11  2022  295.040009  308.490334\n",
       "\n",
       "[3776 rows x 4 columns]"
      ]
     },
     "execution_count": 10,
     "metadata": {},
     "output_type": "execute_result"
    }
   ],
   "source": [
    "# since date cannot be used for regression, the 30 day moving average will be used instead, the average will provide a more\n",
    "# accurate model than the single day open, close data\n",
    "df_linear=df[['Date','Year','Adj Close','MA']]\n",
    "df_linear=df_linear.iloc[30:]\n",
    "df_linear"
   ]
  },
  {
   "cell_type": "code",
   "execution_count": 11,
   "id": "222707c3",
   "metadata": {},
   "outputs": [
    {
     "data": {
      "text/plain": [
       "<AxesSubplot:xlabel='Year'>"
      ]
     },
     "execution_count": 11,
     "metadata": {},
     "output_type": "execute_result"
    },
    {
     "data": {
      "image/png": "[encoded data removed]",
      "text/plain": [
       "<Figure size 720x432 with 1 Axes>"
      ]
     },
     "metadata": {
      "needs_background": "light"
     },
     "output_type": "display_data"
    }
   ],
   "source": [
    "#showing moving day average with actual price\n",
    "df_linear.plot(figsize=(10,6), x='Year')"
   ]
  },
  {
   "cell_type": "code",
   "execution_count": 173,
   "id": "4fbf7fa7",
   "metadata": {},
   "outputs": [],
   "source": [
    "#split data in to training and testing sets with the common 80/20 ratio split\n",
    "x_train,x_test,y_train,y_test=train_test_split(df_linear[['MA']],df_linear[['Adj Close']],test_size=0.2)"
   ]
  },
  {
   "cell_type": "code",
   "execution_count": 174,
   "id": "a2c6a15f",
   "metadata": {},
   "outputs": [
    {
     "name": "stdout",
     "output_type": "stream",
     "text": [
      "(3020, 1)\n",
      "(756, 1)\n",
      "(3020, 1)\n",
      "(756, 1)\n"
     ]
    }
   ],
   "source": [
    "print(x_train.shape)\n",
    "print(x_test.shape)\n",
    "print(y_train.shape)\n",
    "print(y_test.shape)"
   ]
  },
  {
   "cell_type": "code",
   "execution_count": 175,
   "id": "58f3330f",
   "metadata": {},
   "outputs": [
    {
     "name": "stdout",
     "output_type": "stream",
     "text": [
      "linear regression coeffcient [[1.01693442]]\n",
      "linear regression intercept [-0.11287425]\n",
      "linear regression r squared 0.9963341730338029\n"
     ]
    }
   ],
   "source": [
    "# linear regression training, fitting and coeffcient values\n",
    "linearmodel=LinearRegression()\n",
    "linearmodel.fit(x_train,y_train)\n",
    "r_sq=linearmodel.score(x_test,y_test)\n",
    "print('linear regression coeffcient', linearmodel.coef_)\n",
    "print('linear regression intercept',linearmodel.intercept_)\n",
    "print('linear regression r squared',r_sq)"
   ]
  },
  {
   "cell_type": "code",
   "execution_count": 176,
   "id": "c19865a9",
   "metadata": {},
   "outputs": [
    {
     "data": {
      "text/html": [
       "<div>\n",
       "<style scoped>\n",
       "    .dataframe tbody tr th:only-of-type {\n",
       "        vertical-align: middle;\n",
       "    }\n",
       "\n",
       "    .dataframe tbody tr th {\n",
       "        vertical-align: top;\n",
       "    }\n",
       "\n",
       "    .dataframe thead th {\n",
       "        text-align: right;\n",
       "    }\n",
       "</style>\n",
       "<table border=\"1\" class=\"dataframe\">\n",
       "  <thead>\n",
       "    <tr style=\"text-align: right;\">\n",
       "      <th></th>\n",
       "      <th>Adj Close</th>\n",
       "      <th>predicted</th>\n",
       "    </tr>\n",
       "  </thead>\n",
       "  <tbody>\n",
       "    <tr>\n",
       "      <th>0</th>\n",
       "      <td>167.045334</td>\n",
       "      <td>20.462387</td>\n",
       "    </tr>\n",
       "    <tr>\n",
       "      <th>1</th>\n",
       "      <td>19.026920</td>\n",
       "      <td>20.138745</td>\n",
       "    </tr>\n",
       "    <tr>\n",
       "      <th>2</th>\n",
       "      <td>20.678446</td>\n",
       "      <td>19.668458</td>\n",
       "    </tr>\n",
       "    <tr>\n",
       "      <th>3</th>\n",
       "      <td>19.819361</td>\n",
       "      <td>91.060984</td>\n",
       "    </tr>\n",
       "    <tr>\n",
       "      <th>4</th>\n",
       "      <td>98.302605</td>\n",
       "      <td>19.271227</td>\n",
       "    </tr>\n",
       "    <tr>\n",
       "      <th>...</th>\n",
       "      <td>...</td>\n",
       "      <td>...</td>\n",
       "    </tr>\n",
       "    <tr>\n",
       "      <th>751</th>\n",
       "      <td>47.111507</td>\n",
       "      <td>114.510138</td>\n",
       "    </tr>\n",
       "    <tr>\n",
       "      <th>752</th>\n",
       "      <td>186.429504</td>\n",
       "      <td>21.128653</td>\n",
       "    </tr>\n",
       "    <tr>\n",
       "      <th>753</th>\n",
       "      <td>21.895555</td>\n",
       "      <td>222.221051</td>\n",
       "    </tr>\n",
       "    <tr>\n",
       "      <th>754</th>\n",
       "      <td>314.980011</td>\n",
       "      <td>101.530653</td>\n",
       "    </tr>\n",
       "    <tr>\n",
       "      <th>755</th>\n",
       "      <td>24.444115</td>\n",
       "      <td>90.246742</td>\n",
       "    </tr>\n",
       "  </tbody>\n",
       "</table>\n",
       "<p>756 rows × 2 columns</p>\n",
       "</div>"
      ],
      "text/plain": [
       "      Adj Close   predicted\n",
       "0    167.045334   20.462387\n",
       "1     19.026920   20.138745\n",
       "2     20.678446   19.668458\n",
       "3     19.819361   91.060984\n",
       "4     98.302605   19.271227\n",
       "..          ...         ...\n",
       "751   47.111507  114.510138\n",
       "752  186.429504   21.128653\n",
       "753   21.895555  222.221051\n",
       "754  314.980011  101.530653\n",
       "755   24.444115   90.246742\n",
       "\n",
       "[756 rows x 2 columns]"
      ]
     },
     "execution_count": 176,
     "metadata": {},
     "output_type": "execute_result"
    }
   ],
   "source": [
    "#using model to predict test set\n",
    "# actual vs predicted values\n",
    "predicted=linearmodel.predict(x_test)\n",
    "y_test1=y_test\n",
    "y_test1\n",
    "y_test1.reset_index(drop=True, inplace=True)\n",
    "p=pd.concat([y_test,dfa],axis=1)\n",
    "p"
   ]
  },
  {
   "cell_type": "code",
   "execution_count": 177,
   "id": "597eaa2c",
   "metadata": {},
   "outputs": [
    {
     "data": {
      "text/html": [
       "<div>\n",
       "<style scoped>\n",
       "    .dataframe tbody tr th:only-of-type {\n",
       "        vertical-align: middle;\n",
       "    }\n",
       "\n",
       "    .dataframe tbody tr th {\n",
       "        vertical-align: top;\n",
       "    }\n",
       "\n",
       "    .dataframe thead th {\n",
       "        text-align: right;\n",
       "    }\n",
       "</style>\n",
       "<table border=\"1\" class=\"dataframe\">\n",
       "  <thead>\n",
       "    <tr style=\"text-align: right;\">\n",
       "      <th></th>\n",
       "      <th>Adj Close</th>\n",
       "      <th>predicted</th>\n",
       "    </tr>\n",
       "  </thead>\n",
       "  <tbody>\n",
       "    <tr>\n",
       "      <th>count</th>\n",
       "      <td>756.000000</td>\n",
       "      <td>756.000000</td>\n",
       "    </tr>\n",
       "    <tr>\n",
       "      <th>mean</th>\n",
       "      <td>73.814887</td>\n",
       "      <td>66.313597</td>\n",
       "    </tr>\n",
       "    <tr>\n",
       "      <th>std</th>\n",
       "      <td>76.955180</td>\n",
       "      <td>70.730322</td>\n",
       "    </tr>\n",
       "    <tr>\n",
       "      <th>min</th>\n",
       "      <td>11.511728</td>\n",
       "      <td>12.360312</td>\n",
       "    </tr>\n",
       "    <tr>\n",
       "      <th>25%</th>\n",
       "      <td>22.279207</td>\n",
       "      <td>21.787657</td>\n",
       "    </tr>\n",
       "    <tr>\n",
       "      <th>50%</th>\n",
       "      <td>38.701595</td>\n",
       "      <td>33.873687</td>\n",
       "    </tr>\n",
       "    <tr>\n",
       "      <th>75%</th>\n",
       "      <td>100.995203</td>\n",
       "      <td>87.448385</td>\n",
       "    </tr>\n",
       "    <tr>\n",
       "      <th>max</th>\n",
       "      <td>339.399994</td>\n",
       "      <td>334.760355</td>\n",
       "    </tr>\n",
       "  </tbody>\n",
       "</table>\n",
       "</div>"
      ],
      "text/plain": [
       "        Adj Close   predicted\n",
       "count  756.000000  756.000000\n",
       "mean    73.814887   66.313597\n",
       "std     76.955180   70.730322\n",
       "min     11.511728   12.360312\n",
       "25%     22.279207   21.787657\n",
       "50%     38.701595   33.873687\n",
       "75%    100.995203   87.448385\n",
       "max    339.399994  334.760355"
      ]
     },
     "execution_count": 177,
     "metadata": {},
     "output_type": "execute_result"
    }
   ],
   "source": [
    "#summary of basic statistics of predicted vs actual\n",
    "p.describe()"
   ]
  },
  {
   "cell_type": "code",
   "execution_count": 178,
   "id": "6149d88a",
   "metadata": {},
   "outputs": [
    {
     "name": "stdout",
     "output_type": "stream",
     "text": [
      "mean absolute error 2.3386265800515877\n",
      "mean squared error 21.68067684529334\n",
      "root mean squared error 4.656251372648747\n"
     ]
    }
   ],
   "source": [
    "# indicators for model evaluation, the MSE is quite high, RMSE is quite high, therefore the results shows the model is not\n",
    "# ideal for prediction.\n",
    "from sklearn.metrics import mean_absolute_error, mean_squared_error\n",
    "print('mean absolute error', mean_absolute_error(predicted,y_test))\n",
    "print('mean squared error', mean_squared_error(predicted,y_test))\n",
    "print('root mean squared error', mean_squared_error(predicted,y_test, squared=False))"
   ]
  },
  {
   "cell_type": "code",
   "execution_count": 179,
   "id": "6a104f34",
   "metadata": {},
   "outputs": [
    {
     "name": "stdout",
     "output_type": "stream",
     "text": [
      "accuracy of the model is 89.83770102938519\n"
     ]
    }
   ],
   "source": [
    "# average accuracy calculation, since the predicted will never be exact as actual, the average was used\n",
    "p.columns=[c.replace(' ','_') for c in p.columns]\n",
    "y_accuracy=p.Adj_Close.mean()\n",
    "x_accuracy=p.predicted.mean()\n",
    "modelaccuracy=x_accuracy/y_accuracy*100\n",
    "print('accuracy of the model is',modelaccuracy)"
   ]
  },
  {
   "cell_type": "code",
   "execution_count": 180,
   "id": "55f831f2",
   "metadata": {},
   "outputs": [
    {
     "data": {
      "text/html": [
       "<div>\n",
       "<style scoped>\n",
       "    .dataframe tbody tr th:only-of-type {\n",
       "        vertical-align: middle;\n",
       "    }\n",
       "\n",
       "    .dataframe tbody tr th {\n",
       "        vertical-align: top;\n",
       "    }\n",
       "\n",
       "    .dataframe thead th {\n",
       "        text-align: right;\n",
       "    }\n",
       "</style>\n",
       "<table border=\"1\" class=\"dataframe\">\n",
       "  <thead>\n",
       "    <tr style=\"text-align: right;\">\n",
       "      <th></th>\n",
       "      <th>Adj_Close</th>\n",
       "      <th>predicted</th>\n",
       "    </tr>\n",
       "  </thead>\n",
       "  <tbody>\n",
       "    <tr>\n",
       "      <th>0</th>\n",
       "      <td>167.045334</td>\n",
       "      <td>20.462387</td>\n",
       "    </tr>\n",
       "    <tr>\n",
       "      <th>1</th>\n",
       "      <td>19.026920</td>\n",
       "      <td>20.138745</td>\n",
       "    </tr>\n",
       "    <tr>\n",
       "      <th>2</th>\n",
       "      <td>20.678446</td>\n",
       "      <td>19.668458</td>\n",
       "    </tr>\n",
       "    <tr>\n",
       "      <th>3</th>\n",
       "      <td>19.819361</td>\n",
       "      <td>91.060984</td>\n",
       "    </tr>\n",
       "    <tr>\n",
       "      <th>4</th>\n",
       "      <td>98.302605</td>\n",
       "      <td>19.271227</td>\n",
       "    </tr>\n",
       "    <tr>\n",
       "      <th>...</th>\n",
       "      <td>...</td>\n",
       "      <td>...</td>\n",
       "    </tr>\n",
       "    <tr>\n",
       "      <th>751</th>\n",
       "      <td>47.111507</td>\n",
       "      <td>114.510138</td>\n",
       "    </tr>\n",
       "    <tr>\n",
       "      <th>752</th>\n",
       "      <td>186.429504</td>\n",
       "      <td>21.128653</td>\n",
       "    </tr>\n",
       "    <tr>\n",
       "      <th>753</th>\n",
       "      <td>21.895555</td>\n",
       "      <td>222.221051</td>\n",
       "    </tr>\n",
       "    <tr>\n",
       "      <th>754</th>\n",
       "      <td>314.980011</td>\n",
       "      <td>101.530653</td>\n",
       "    </tr>\n",
       "    <tr>\n",
       "      <th>755</th>\n",
       "      <td>24.444115</td>\n",
       "      <td>90.246742</td>\n",
       "    </tr>\n",
       "  </tbody>\n",
       "</table>\n",
       "<p>756 rows × 2 columns</p>\n",
       "</div>"
      ],
      "text/plain": [
       "      Adj_Close   predicted\n",
       "0    167.045334   20.462387\n",
       "1     19.026920   20.138745\n",
       "2     20.678446   19.668458\n",
       "3     19.819361   91.060984\n",
       "4     98.302605   19.271227\n",
       "..          ...         ...\n",
       "751   47.111507  114.510138\n",
       "752  186.429504   21.128653\n",
       "753   21.895555  222.221051\n",
       "754  314.980011  101.530653\n",
       "755   24.444115   90.246742\n",
       "\n",
       "[756 rows x 2 columns]"
      ]
     },
     "execution_count": 180,
     "metadata": {},
     "output_type": "execute_result"
    }
   ],
   "source": [
    "p"
   ]
  },
  {
   "cell_type": "code",
   "execution_count": 183,
   "id": "11b64f2c",
   "metadata": {},
   "outputs": [
    {
     "data": {
      "text/plain": [
       "[<matplotlib.lines.Line2D at 0x21288034910>]"
      ]
     },
     "execution_count": 183,
     "metadata": {},
     "output_type": "execute_result"
    },
    {
     "data": {
      "image/png": "[encoded data removed]",
      "text/plain": [
       "<Figure size 432x288 with 1 Axes>"
      ]
     },
     "metadata": {
      "needs_background": "light"
     },
     "output_type": "display_data"
    }
   ],
   "source": [
    "plt.plot(p.Adj_Close,color='red')\n",
    "plt.plot(p.predicted,color='blue')"
   ]
  },
  {
   "cell_type": "code",
   "execution_count": null,
   "id": "e0a044ba",
   "metadata": {},
   "outputs": [],
   "source": [
    "# as seen in the graph, linear regression is not the best method for predictions of future stock prices,\n",
    "# msft's stock has seen an exponential growth in the last few years, therefore linear regression produces inaccurate \n",
    "# predictions as seen in some of the predicted vs actual values in the chart above. Another model will be developed for the \n",
    "# purpose of price prediction, notably KNN"
   ]
  },
  {
   "cell_type": "code",
   "execution_count": null,
   "id": "c8081a16",
   "metadata": {},
   "outputs": [],
   "source": []
  }
 ],
 "metadata": {
  "kernelspec": {
   "display_name": "Python 3",
   "language": "python",
   "name": "python3"
  },
  "language_info": {
   "codemirror_mode": {
    "name": "ipython",
    "version": 3
   },
   "file_extension": ".py",
   "mimetype": "text/x-python",
   "name": "python",
   "nbconvert_exporter": "python",
   "pygments_lexer": "ipython3",
   "version": "3.8.8"
  }
 },
 "nbformat": 4,
 "nbformat_minor": 5
}
